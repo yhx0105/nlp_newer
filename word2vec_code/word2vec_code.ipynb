{
 "cells": [
  {
   "cell_type": "code",
   "execution_count": 1,
   "metadata": {},
   "outputs": [],
   "source": [
    "#导入数据\n",
    "with open('news_tensite_xml.smarty.dat',encoding='utf-8') as tf:\n",
    "    lines=tf.readlines()"
   ]
  },
  {
   "cell_type": "code",
   "execution_count": 2,
   "metadata": {
    "scrolled": false
   },
   "outputs": [
    {
     "data": {
      "text/plain": [
       "['<doc>\\n',\n",
       " '<url>http://news.sohu.com/20120612/n345428229.shtml</url>\\n',\n",
       " '<docno>c172394d49da2142-69713306c0bb3300</docno>\\n',\n",
       " '<contenttitle>公安机关销毁１０余万非法枪支\\u3000跨国武器走私渐起</contenttitle>\\n',\n",
       " '<content>中广网唐山６月１２日消息（记者汤一亮\\u3000庄胜春）据中国之声《新闻晚高峰》报道，今天（１２日）上午，公安机关２０１２年缉枪制爆专项行动“统一销毁非法枪爆物品活动”在河北唐山正式启动，１０万余只非法枪支、２５０余吨炸药在全国１５０个城市被统一销毁。\\ue40c黄明：现在我宣布，全国缉枪制爆统一销毁行动开始！\\ue40c随着公安部副部长黄明一声令下，大量仿制式枪以及猎枪、火药枪、气枪在河北唐山钢铁厂被投入炼钢炉。与此同时，在全国各省区市１５０个城市，破案追缴和群众主动上缴的１０万余支非法枪支被集中销毁，在全国各指定场所，２５０余吨炸药被分别销毁。公安部治安局局长刘绍武介绍，这次销毁的非法枪支来源于三个方面。\\ue40c刘绍武：打击破案包括涉黑、涉恶的团伙犯罪、毒品犯罪，还有从境外非法走私的枪支爆炸物。\\ue40c在销毁现场，记者看到了被追缴和上缴的各式各样的枪支。\\ue40c刘绍武：也包括制式枪，有的是军用枪、仿制的制式抢，还有猎枪、私制的火药枪等等。按照我国的枪支管理法，这些都是严厉禁止个人非法持有的。中国是世界上持枪犯罪的犯罪率最低的国家之一。\\ue40c中美联手破获特大跨国走私武器弹药案\\ue40c近日，中美执法部门联手成功破获特大跨国走私武器弹药案，在中国抓获犯罪嫌疑人２３名，缴获各类枪支９３支、子弹５万余发及大量枪支配件。在美国抓获犯罪嫌疑人３名，缴获各类枪支１２支。这是公安部与美国移民海关执法局通过联合调查方式侦破重大跨国案件的又一成功案例。\\ue40c２０１１年８月２５日，上海浦东国际机场海关在对美国纽约发往浙江台州，申报品名为扩音器（音箱）的快件进行查验时，发现货物内藏有手枪９支，枪支配件９件，长枪部件７件。经检验，这些都是具有杀伤力的制式枪支及其配件。这引起了公安部和海关总署的高度重视。\\ue40c公安部刑侦局局长刘安成：因为是从海关进口的货物中检查出来夹带，说明来源地是境外，或是说国外，这应该是一起特大跨国走私武器弹药的案件。\\ue40c上海市公安局和上海海关缉私局成立联合专案组，迅速开展案件侦查。专案组于８月２６日在浙江台州ＵＰＳ取件处将犯罪嫌疑人王挺（男，３２岁，台州市人）抓获。王挺交代，他通过一境外网站上认识了上家林志富，２００９年１１月以来，林志富长期居住美国，他通过互联网组建了一个走私、贩卖、私藏枪支弹药的群体，通过网络在国内寻找枪支弹药买家，并通过美国ＵＰＳ联邦速递公司将枪支弹药从纽约快递给多名类似王挺的中间人，再通过中间人发送给国内买家。\\ue40c此案中，犯罪分子依托虚拟网络进行犯罪交易，隐蔽性强，涉案人员使用的身份、地址、联系方式都是虚构的，侦查难度很大。刘安成说，此案体现了是新型犯罪，特别是现代犯罪的新特点。\\ue40c刘安成：他不受距离的限制、经常是跨国跨境，甚至是跨一个、数个、甚至数十个国家。这种犯罪手法的改变和新型犯罪的特点，要求我们各国警方充分合作。\\ue40c作者：汤一亮\\u3000庄胜春</content>\\n',\n",
       " '</doc>\\n',\n",
       " '<doc>\\n',\n",
       " '<url>http://news.sohu.com/20120607/n344998325.shtml</url>\\n',\n",
       " '<docno>dbb4554e49da2142-69713306c0bb3300</docno>\\n',\n",
       " '<contenttitle>张绍刚发道歉信网友不认可：他的问题是俯视他人（图）</contenttitle>\\n']"
      ]
     },
     "execution_count": 2,
     "metadata": {},
     "output_type": "execute_result"
    }
   ],
   "source": [
    "lines[:10]"
   ]
  },
  {
   "cell_type": "code",
   "execution_count": 3,
   "metadata": {},
   "outputs": [],
   "source": [
    "import re\n",
    "import jieba"
   ]
  },
  {
   "cell_type": "code",
   "execution_count": 4,
   "metadata": {},
   "outputs": [],
   "source": [
    "#进行数据预处理 去除<>,\\n,数字\n",
    "\n",
    "def clean_data(text):\n",
    "    text=re.sub(r'^(<url>).*(</url>)$','',text)#去除url\n",
    "    text=re.sub(r'^(<docno>).*(</docno>)$','',text)#去除docno\n",
    "    text=re.sub(r'^(<contenttitle>).*(</contenttitle>)$','',text)#去标题\n",
    "    text=re.sub(r'(<content>)|(</content>)|<doc>|</doc>','',text)#删除contentitle,</contenttitle>,<content>,</content>\n",
    "    text=re.sub(r'\\d*','',text)\n",
    "    text=text.replace('\\n','')\n",
    "    return text"
   ]
  },
  {
   "cell_type": "code",
   "execution_count": 5,
   "metadata": {
    "scrolled": true
   },
   "outputs": [
    {
     "name": "stderr",
     "output_type": "stream",
     "text": [
      "Building prefix dict from the default dictionary ...\n",
      "Loading model from cache C:\\Users\\yang\\AppData\\Local\\Temp\\jieba.cache\n",
      "Loading model cost 1.514 seconds.\n",
      "Prefix dict has been built succesfully.\n"
     ]
    }
   ],
   "source": [
    "fo=open('train_data.txt','r+',encoding='utf-8')\n",
    "for line in lines:\n",
    "    content=clean_data(line)\n",
    "    if content!='':\n",
    "            line_seg=jieba.cut(content)\n",
    "            fo.write(' '.join(line_seg))\n",
    "\n",
    "fo.close()"
   ]
  },
  {
   "cell_type": "code",
   "execution_count": 6,
   "metadata": {},
   "outputs": [],
   "source": [
    "from gensim.models import Word2Vec,word2vec\n",
    "from gensim.models.word2vec import LineSentence,Text8Corpus"
   ]
  },
  {
   "cell_type": "code",
   "execution_count": 13,
   "metadata": {},
   "outputs": [],
   "source": [
    "input_file='./train_data1.txt'\n",
    "sentence=word2vec.Text8Corpus(input_file)"
   ]
  },
  {
   "cell_type": "code",
   "execution_count": 14,
   "metadata": {},
   "outputs": [],
   "source": [
    "model=Word2Vec(sentence,size=100,window=5,min_count=5)"
   ]
  },
  {
   "cell_type": "code",
   "execution_count": 15,
   "metadata": {},
   "outputs": [],
   "source": [
    "model.save('news.model')"
   ]
  },
  {
   "cell_type": "code",
   "execution_count": 17,
   "metadata": {},
   "outputs": [],
   "source": [
    "news_model=Word2Vec.load('news.model')"
   ]
  },
  {
   "cell_type": "code",
   "execution_count": 25,
   "metadata": {},
   "outputs": [
    {
     "data": {
      "text/plain": [
       "[('目前', 0.9999361038208008),\n",
       " ('与', 0.9999281167984009),\n",
       " ('中', 0.9999270439147949),\n",
       " ('下', 0.9999263286590576),\n",
       " ('是', 0.9999256134033203),\n",
       " ('并', 0.9999244213104248),\n",
       " ('不', 0.99992436170578),\n",
       " ('通过', 0.9999224543571472),\n",
       " ('会', 0.9999221563339233),\n",
       " ('没有', 0.9999196529388428)]"
      ]
     },
     "execution_count": 25,
     "metadata": {},
     "output_type": "execute_result"
    }
   ],
   "source": [
    "result=model.wv.most_similar('美国')\n",
    "result"
   ]
  },
  {
   "cell_type": "code",
   "execution_count": 26,
   "metadata": {},
   "outputs": [
    {
     "name": "stderr",
     "output_type": "stream",
     "text": [
      "D:\\Anaconda\\lib\\site-packages\\ipykernel_launcher.py:1: DeprecationWarning: Call to deprecated `__getitem__` (Method will be removed in 4.0.0, use self.wv.__getitem__() instead).\n",
      "  \"\"\"Entry point for launching an IPython kernel.\n"
     ]
    },
    {
     "data": {
      "text/plain": [
       "array([-0.5702538 , -0.15013006,  0.44782466, -0.32163036,  0.28521433,\n",
       "        0.05071749, -0.14844899, -0.48900032,  0.04021336, -0.20905153,\n",
       "        0.00139246, -0.51141757,  0.3882961 , -0.39998728, -0.31962657,\n",
       "        0.09790236, -0.24409208,  0.4715422 ,  0.6193294 ,  0.38736838,\n",
       "       -0.11814672,  0.21081239,  0.46415508, -0.49326456, -0.14928484,\n",
       "        0.09946468, -0.0488198 ,  0.43154943,  0.4662702 ,  0.09568669,\n",
       "       -0.28861624,  0.4099051 ,  0.6318172 , -0.21963185, -0.22475049,\n",
       "       -0.07698717, -0.652027  ,  0.17562309, -0.32121104, -0.01108977,\n",
       "       -0.3270115 ,  0.44798604, -0.07490503, -0.28971478,  0.7844806 ,\n",
       "       -0.15169543, -0.56113005, -0.0512419 , -0.28399837,  0.256092  ,\n",
       "        0.2916323 , -0.08247042, -0.22785582,  0.6670905 , -0.5536984 ,\n",
       "        0.4443677 ,  0.6571253 ,  0.25562933, -0.4573556 , -0.45475262,\n",
       "        0.66106063, -0.17976192,  0.15228419,  0.6505806 , -0.03783117,\n",
       "       -0.5510177 ,  0.2397009 ,  0.4847837 , -0.15467854,  0.71904844,\n",
       "       -0.7382525 ,  0.68164694, -0.1750619 ,  0.8684851 , -0.34409297,\n",
       "       -0.01046114, -0.06618811, -0.66812575,  0.4675224 , -0.04158377,\n",
       "       -1.2398751 ,  0.5125972 ,  0.38826543,  0.30365115, -0.38080844,\n",
       "        0.5441109 ,  0.02865068, -0.32729766,  0.29983583, -0.6944726 ,\n",
       "       -0.05483199, -0.13142173, -0.47206625, -0.09138995, -0.44806632,\n",
       "       -0.2259256 , -1.1968198 ,  0.2827189 ,  0.18656282,  0.02539179],\n",
       "      dtype=float32)"
      ]
     },
     "execution_count": 26,
     "metadata": {},
     "output_type": "execute_result"
    }
   ],
   "source": [
    "model['中国']"
   ]
  },
  {
   "cell_type": "code",
   "execution_count": 27,
   "metadata": {},
   "outputs": [
    {
     "data": {
      "text/plain": [
       "0.9997001"
      ]
     },
     "execution_count": 27,
     "metadata": {},
     "output_type": "execute_result"
    }
   ],
   "source": [
    "model.wv.similarity('中国','美国')"
   ]
  },
  {
   "cell_type": "code",
   "execution_count": 28,
   "metadata": {},
   "outputs": [
    {
     "data": {
      "text/plain": [
       "(1, 2)"
      ]
     },
     "execution_count": 28,
     "metadata": {},
     "output_type": "execute_result"
    }
   ],
   "source": [
    "model.train([['自然语言','处理']],total_examples=1,epochs=1)"
   ]
  },
  {
   "cell_type": "code",
   "execution_count": 30,
   "metadata": {},
   "outputs": [
    {
     "data": {
      "text/plain": [
       "array([-0.06963348, -0.02076088,  0.05108763, -0.04320618,  0.03799674,\n",
       "        0.01014796, -0.01995497, -0.06360169,  0.00941112, -0.02389942,\n",
       "       -0.00178809, -0.06227627,  0.04963916, -0.05469348, -0.04424085,\n",
       "        0.00804436, -0.03507362,  0.06036966,  0.07414074,  0.05393008,\n",
       "       -0.02050063,  0.03051708,  0.06110349, -0.06543919, -0.0166603 ,\n",
       "        0.01154961, -0.01114293,  0.05011827,  0.05913569,  0.01316659,\n",
       "       -0.02958605,  0.05687759,  0.07580195, -0.0316296 , -0.03108619,\n",
       "       -0.00822465, -0.08044649,  0.02712164, -0.04484717, -0.00336096,\n",
       "       -0.04004356,  0.05643322, -0.00772299, -0.03777001,  0.09728525,\n",
       "       -0.02003685, -0.07327066, -0.00969584, -0.03264777,  0.03182771,\n",
       "        0.03771785, -0.01046888, -0.03256597,  0.0806444 , -0.06638315,\n",
       "        0.0547919 ,  0.08304029,  0.03161905, -0.05681963, -0.05821959,\n",
       "        0.08656894, -0.01808032,  0.01799173,  0.08126854, -0.0019547 ,\n",
       "       -0.06452764,  0.03619516,  0.05709688, -0.02201164,  0.08451217,\n",
       "       -0.09790381,  0.08995529, -0.02000314,  0.10748951, -0.04685413,\n",
       "       -0.00019754, -0.01446722, -0.08673398,  0.05244675, -0.00126778,\n",
       "       -0.15806231,  0.06192101,  0.05068123,  0.0414095 , -0.0482118 ,\n",
       "        0.06563392, -0.00337898, -0.04098165,  0.03882219, -0.08137569,\n",
       "       -0.00833053, -0.01311747, -0.05353734, -0.00918572, -0.059868  ,\n",
       "       -0.0344923 , -0.14771058,  0.0306181 ,  0.02308334,  0.00043516],\n",
       "      dtype=float32)"
      ]
     },
     "execution_count": 30,
     "metadata": {},
     "output_type": "execute_result"
    }
   ],
   "source": [
    "vector=model.wv['儿童']\n",
    "vector"
   ]
  },
  {
   "cell_type": "code",
   "execution_count": null,
   "metadata": {},
   "outputs": [],
   "source": []
  }
 ],
 "metadata": {
  "kernelspec": {
   "display_name": "Python 3",
   "language": "python",
   "name": "python3"
  },
  "language_info": {
   "codemirror_mode": {
    "name": "ipython",
    "version": 3
   },
   "file_extension": ".py",
   "mimetype": "text/x-python",
   "name": "python",
   "nbconvert_exporter": "python",
   "pygments_lexer": "ipython3",
   "version": "3.7.1"
  }
 },
 "nbformat": 4,
 "nbformat_minor": 2
}
