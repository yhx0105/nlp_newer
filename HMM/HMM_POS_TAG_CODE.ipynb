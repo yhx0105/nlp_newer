{
 "cells": [
  {
   "cell_type": "code",
   "execution_count": 1,
   "metadata": {},
   "outputs": [],
   "source": [
    "import nltk\n",
    "import sys\n",
    "from nltk.corpus import brown"
   ]
  },
  {
   "cell_type": "code",
   "execution_count": 2,
   "metadata": {},
   "outputs": [],
   "source": [
    "#预处理词库\n",
    "brown_tags_words=[]\n",
    "for sent in brown.tagged_sents():\n",
    "    #增加开头\n",
    "#     print(sent)\n",
    "    brown_tags_words.append(('start','start'))\n",
    "    #tag省略前两个字母\n",
    "    brown_tags_words.extend([(tag[:2],word)for (word,tag) in sent])\n",
    "    #增加结尾\n",
    "    brown_tags_words.append(('end','end'))"
   ]
  },
  {
   "cell_type": "code",
   "execution_count": 3,
   "metadata": {},
   "outputs": [
    {
     "data": {
      "text/plain": [
       "[('start', 'start'),\n",
       " ('AT', 'The'),\n",
       " ('NP', 'Fulton'),\n",
       " ('NN', 'County'),\n",
       " ('JJ', 'Grand'),\n",
       " ('NN', 'Jury'),\n",
       " ('VB', 'said'),\n",
       " ('NR', 'Friday'),\n",
       " ('AT', 'an'),\n",
       " ('NN', 'investigation')]"
      ]
     },
     "execution_count": 3,
     "metadata": {},
     "output_type": "execute_result"
    }
   ],
   "source": [
    "brown_tags_words[:10]\n",
    "# len(brown_tags_words)"
   ]
  },
  {
   "cell_type": "code",
   "execution_count": 69,
   "metadata": {},
   "outputs": [
    {
     "data": {
      "text/plain": [
       "99077"
      ]
     },
     "execution_count": 69,
     "metadata": {},
     "output_type": "execute_result"
    }
   ],
   "source": [
    "count_word_at=0\n",
    "for elem in brown_tags_words:\n",
    "#     print(elem[1])\n",
    "    if elem[0]=='AT':\n",
    "#         print(elem[1])\n",
    "        count_word_at+=1\n",
    "count_word_at\n"
   ]
  },
  {
   "cell_type": "code",
   "execution_count": 4,
   "metadata": {},
   "outputs": [],
   "source": [
    "from nltk.probability import ConditionalFreqDist\n",
    "from nltk.probability import ConditionalProbDist,ELEProbDist\n",
    "from nltk.tokenize import word_tokenize"
   ]
  },
  {
   "cell_type": "code",
   "execution_count": 5,
   "metadata": {},
   "outputs": [
    {
     "name": "stdout",
     "output_type": "stream",
     "text": [
      "<ConditionalProbDist with 51 conditions>\n"
     ]
    }
   ],
   "source": [
    "#调用内置函数进行单统计P(wi | ti) = count(wi, ti) / count(ti)\n",
    "cfd_tagwords=ConditionalFreqDist(brown_tags_words)\n",
    "cpd_tagwords=nltk.ConditionalProbDist(cfd_tagwords,nltk.MLEProbDist)\n",
    "print(cpd_tagwords)"
   ]
  },
  {
   "cell_type": "code",
   "execution_count": 6,
   "metadata": {},
   "outputs": [
    {
     "data": {
      "text/plain": [
       "6.042713350943527e-05"
      ]
     },
     "execution_count": 6,
     "metadata": {},
     "output_type": "execute_result"
    }
   ],
   "source": [
    "cpd_tagwords[\"VB\"].prob(\"duck\")"
   ]
  },
  {
   "cell_type": "code",
   "execution_count": 7,
   "metadata": {},
   "outputs": [],
   "source": [
    "# P(ti | t{i-1}) = count(t{i-1}, ti) / count(t{i-1})\n",
    "brown_tags=[tag for (tag,word) in brown_tags_words]"
   ]
  },
  {
   "cell_type": "code",
   "execution_count": 8,
   "metadata": {},
   "outputs": [],
   "source": [
    "#bigram:前后两个连在一起组成一组 count(t{i-1},ti)\n",
    "cfd_tags=nltk.ConditionalFreqDist(nltk.bigrams(brown_tags))\n",
    "#P（ti/t{i-1}）\n",
    "cpd_tags=nltk.ConditionalProbDist(cfd_tags,nltk.MLEProbDist)"
   ]
  },
  {
   "cell_type": "code",
   "execution_count": 9,
   "metadata": {},
   "outputs": [
    {
     "data": {
      "text/plain": [
       "0.5057722522030194"
      ]
     },
     "execution_count": 9,
     "metadata": {},
     "output_type": "execute_result"
    }
   ],
   "source": [
    "cpd_tags['DT'].prob('NN')"
   ]
  },
  {
   "cell_type": "code",
   "execution_count": 10,
   "metadata": {},
   "outputs": [],
   "source": [
    "distinct_tags=set(brown_tags)"
   ]
  },
  {
   "cell_type": "code",
   "execution_count": 11,
   "metadata": {},
   "outputs": [],
   "source": [
    "sentence=['I','like','studying']\n",
    "sentlen=len(sentence)"
   ]
  },
  {
   "cell_type": "code",
   "execution_count": 12,
   "metadata": {},
   "outputs": [],
   "source": [
    "viterbi=[]"
   ]
  },
  {
   "cell_type": "code",
   "execution_count": 13,
   "metadata": {},
   "outputs": [],
   "source": [
    "backpointer=[]"
   ]
  },
  {
   "cell_type": "code",
   "execution_count": 14,
   "metadata": {},
   "outputs": [
    {
     "name": "stdout",
     "output_type": "stream",
     "text": [
      "{'(-': 0.0, 'IN': 0.0, ':': 0.0, 'HV': 0.0, 'AP': 0.0, '.-': 0.0, 'RB': 0.0, 'NI': 3.3324520848931064e-07, 'VB': 0.0, 'end': 0.0, '(': 0.0, '``': 0.0, 'RN': 0.0, ':-': 0.0, 'CC': 0.0, 'WR': 0.0, ')-': 0.0, 'MD': 0.0, 'NN': 1.0580313619573935e-06, '--': 0.0, 'NP': 1.7319067623793952e-06, 'FW': 0.0, ',': 0.0, 'NR': 0.0, '*-': 0.0, 'WD': 0.0, \"''\": 0.0, \"'\": 0.0, 'DT': 0.0, 'DO': 0.0, 'BE': 0.0, 'PP': 0.014930900689060006, 'WP': 0.0, 'PN': 0.0, 'EX': 0.0, 'UH': 0.0, 'JJ': 0.0, 'WQ': 0.0, 'CS': 0.0, '.': 0.0, 'RP': 0.0, 'TO': 0.0, 'AT': 0.0, 'CD': 0.0, ',-': 0.0, ')': 0.0, 'QL': 0.0, 'OD': 0.0, '*': 0.0, 'AB': 0.0}\n",
      "{'(-': 'start', 'IN': 'start', ':': 'start', 'HV': 'start', 'AP': 'start', '.-': 'start', 'RB': 'start', 'NI': 'start', 'VB': 'start', 'end': 'start', '(': 'start', '``': 'start', 'RN': 'start', ':-': 'start', 'CC': 'start', 'WR': 'start', ')-': 'start', 'MD': 'start', 'NN': 'start', '--': 'start', 'NP': 'start', 'FW': 'start', ',': 'start', 'NR': 'start', '*-': 'start', 'WD': 'start', \"''\": 'start', \"'\": 'start', 'DT': 'start', 'DO': 'start', 'BE': 'start', 'PP': 'start', 'WP': 'start', 'PN': 'start', 'EX': 'start', 'UH': 'start', 'JJ': 'start', 'WQ': 'start', 'CS': 'start', '.': 'start', 'RP': 'start', 'TO': 'start', 'AT': 'start', 'CD': 'start', ',-': 'start', ')': 'start', 'QL': 'start', 'OD': 'start', '*': 'start', 'AB': 'start'}\n"
     ]
    }
   ],
   "source": [
    "first_viterbi={}\n",
    "first_backpointer={}\n",
    "for tag in distinct_tags:\n",
    "    if tag=='start':continue\n",
    "    first_viterbi[tag]=cpd_tags['start'].prob(tag)*cpd_tagwords[tag].prob(sentence[0])\n",
    "    first_backpointer[tag]='start'\n",
    "print(first_viterbi)\n",
    "print(first_backpointer)"
   ]
  },
  {
   "cell_type": "code",
   "execution_count": 15,
   "metadata": {},
   "outputs": [],
   "source": [
    "viterbi.append(first_viterbi)\n",
    "backpointer.append(first_backpointer)"
   ]
  },
  {
   "cell_type": "code",
   "execution_count": 16,
   "metadata": {},
   "outputs": [
    {
     "name": "stdout",
     "output_type": "stream",
     "text": [
      "word ‘I’ current best two_tag sequence start PP\n"
     ]
    }
   ],
   "source": [
    "currbest=max(first_viterbi.keys(),key=lambda tag:first_viterbi[tag])\n",
    "print('word','‘'+sentence[0]+'’','current best two_tag sequence',\n",
    "     first_backpointer[currbest],currbest)"
   ]
  },
  {
   "cell_type": "code",
   "execution_count": 41,
   "metadata": {},
   "outputs": [
    {
     "name": "stdout",
     "output_type": "stream",
     "text": [
      "[{'(-': '(-', 'IN': '(-', ':': '(-', 'HV': '(-', 'AP': '(-', '.-': '(-', 'RB': '(-', 'NI': '(-', 'VB': 'CS', 'end': '(-', '(': '(-', '``': '(-', 'RN': '(-', ':-': '(-', 'CC': '(-', 'WR': '(-', ')-': '(-', 'MD': '(-', 'NN': '(-', '--': '(-', 'NP': '(-', 'FW': '(-', ',': '(-', 'NR': '(-', '*-': '(-', 'WD': '(-', \"''\": '(-', \"'\": '(-', 'DT': '(-', 'DO': '(-', 'BE': '(-', 'PP': '(-', 'WP': '(-', 'PN': '(-', 'EX': '(-', 'UH': '(-', 'JJ': '(-', 'WQ': '(-', 'CS': '(-', '.': '(-', 'RP': '(-', 'TO': '(-', 'AT': '(-', 'CD': '(-', ',-': '(-', ')': '(-', 'start': '(-', 'QL': '(-', 'OD': '(-', '*': '(-', 'AB': '(-'}, {'(-': '(-', 'IN': 'PP', ':': '(-', 'HV': '(-', 'AP': '(-', '.-': '(-', 'RB': '(-', 'NI': '(-', 'VB': 'PP', 'end': '(-', '(': '(-', '``': '(-', 'RN': '(-', ':-': '(-', 'CC': '(-', 'WR': '(-', ')-': '(-', 'MD': '(-', 'NN': '(-', '--': '(-', 'NP': '(-', 'FW': '(-', ',': '(-', 'NR': '(-', '*-': '(-', 'WD': '(-', \"''\": '(-', \"'\": '(-', 'DT': '(-', 'DO': '(-', 'BE': '(-', 'PP': '(-', 'WP': '(-', 'PN': '(-', 'EX': '(-', 'UH': '(-', 'JJ': 'PP', 'WQ': '(-', 'CS': 'PP', '.': '(-', 'RP': '(-', 'TO': '(-', 'AT': '(-', 'CD': '(-', ',-': '(-', ')': '(-', 'start': '(-', 'QL': '(-', 'OD': '(-', '*': '(-', 'AB': '(-'}, {'(-': 'start', 'IN': 'start', ':': 'start', 'HV': 'start', 'AP': 'start', '.-': 'start', 'RB': 'start', 'NI': 'start', 'VB': 'start', 'end': 'start', '(': 'start', '``': 'start', 'RN': 'start', ':-': 'start', 'CC': 'start', 'WR': 'start', ')-': 'start', 'MD': 'start', 'NN': 'start', '--': 'start', 'NP': 'start', 'FW': 'start', ',': 'start', 'NR': 'start', '*-': 'start', 'WD': 'start', \"''\": 'start', \"'\": 'start', 'DT': 'start', 'DO': 'start', 'BE': 'start', 'PP': 'start', 'WP': 'start', 'PN': 'start', 'EX': 'start', 'UH': 'start', 'JJ': 'start', 'WQ': 'start', 'CS': 'start', '.': 'start', 'RP': 'start', 'TO': 'start', 'AT': 'start', 'CD': 'start', ',-': 'start', ')': 'start', 'QL': 'start', 'OD': 'start', '*': 'start', 'AB': 'start'}, {'(-': '(-', 'IN': 'VB', ':': '(-', 'HV': '(-', 'AP': '(-', '.-': '(-', 'RB': '(-', 'NI': '(-', 'VB': 'VB', 'end': '(-', '(': '(-', '``': '(-', 'RN': '(-', ':-': '(-', 'CC': '(-', 'WR': '(-', ')-': '(-', 'MD': '(-', 'NN': '(-', '--': '(-', 'NP': '(-', 'FW': '(-', ',': '(-', 'NR': '(-', '*-': '(-', 'WD': '(-', \"''\": '(-', \"'\": '(-', 'DT': '(-', 'DO': '(-', 'BE': '(-', 'PP': '(-', 'WP': '(-', 'PN': '(-', 'EX': '(-', 'UH': '(-', 'JJ': 'VB', 'WQ': '(-', 'CS': 'VB', '.': '(-', 'RP': '(-', 'TO': '(-', 'AT': '(-', 'CD': '(-', ',-': '(-', ')': '(-', 'start': '(-', 'QL': '(-', 'OD': '(-', '*': '(-', 'AB': '(-'}, {'(-': '(-', 'IN': 'CS', ':': '(-', 'HV': '(-', 'AP': '(-', '.-': '(-', 'RB': '(-', 'NI': '(-', 'VB': 'CS', 'end': '(-', '(': '(-', '``': '(-', 'RN': '(-', ':-': '(-', 'CC': '(-', 'WR': '(-', ')-': '(-', 'MD': '(-', 'NN': '(-', '--': '(-', 'NP': '(-', 'FW': '(-', ',': '(-', 'NR': '(-', '*-': '(-', 'WD': '(-', \"''\": '(-', \"'\": '(-', 'DT': '(-', 'DO': '(-', 'BE': '(-', 'PP': '(-', 'WP': '(-', 'PN': '(-', 'EX': '(-', 'UH': '(-', 'JJ': 'CS', 'WQ': '(-', 'CS': 'CS', '.': '(-', 'RP': '(-', 'TO': '(-', 'AT': '(-', 'CD': '(-', ',-': '(-', ')': '(-', 'start': '(-', 'QL': '(-', 'OD': '(-', '*': '(-', 'AB': '(-'}, {'(-': '(-', 'IN': '(-', ':': '(-', 'HV': '(-', 'AP': '(-', '.-': '(-', 'RB': '(-', 'NI': '(-', 'VB': 'CS', 'end': '(-', '(': '(-', '``': '(-', 'RN': '(-', ':-': '(-', 'CC': '(-', 'WR': '(-', ')-': '(-', 'MD': '(-', 'NN': '(-', '--': '(-', 'NP': '(-', 'FW': '(-', ',': '(-', 'NR': '(-', '*-': '(-', 'WD': '(-', \"''\": '(-', \"'\": '(-', 'DT': '(-', 'DO': '(-', 'BE': '(-', 'PP': '(-', 'WP': '(-', 'PN': '(-', 'EX': '(-', 'UH': '(-', 'JJ': '(-', 'WQ': '(-', 'CS': '(-', '.': '(-', 'RP': '(-', 'TO': '(-', 'AT': '(-', 'CD': '(-', ',-': '(-', ')': '(-', 'start': '(-', 'QL': '(-', 'OD': '(-', '*': '(-', 'AB': '(-'}, {'(-': '(-', 'IN': 'VB', ':': '(-', 'HV': '(-', 'AP': '(-', '.-': '(-', 'RB': '(-', 'NI': '(-', 'VB': 'VB', 'end': '(-', '(': '(-', '``': '(-', 'RN': '(-', ':-': '(-', 'CC': '(-', 'WR': '(-', ')-': '(-', 'MD': '(-', 'NN': '(-', '--': '(-', 'NP': '(-', 'FW': '(-', ',': '(-', 'NR': '(-', '*-': '(-', 'WD': '(-', \"''\": '(-', \"'\": '(-', 'DT': '(-', 'DO': '(-', 'BE': '(-', 'PP': '(-', 'WP': '(-', 'PN': '(-', 'EX': '(-', 'UH': '(-', 'JJ': 'VB', 'WQ': '(-', 'CS': 'VB', '.': '(-', 'RP': '(-', 'TO': '(-', 'AT': '(-', 'CD': '(-', ',-': '(-', ')': '(-', 'start': '(-', 'QL': '(-', 'OD': '(-', '*': '(-', 'AB': '(-'}, {'(-': '(-', 'IN': '(-', ':': '(-', 'HV': '(-', 'AP': '(-', '.-': '(-', 'RB': '(-', 'NI': '(-', 'VB': 'CS', 'end': '(-', '(': '(-', '``': '(-', 'RN': '(-', ':-': '(-', 'CC': '(-', 'WR': '(-', ')-': '(-', 'MD': '(-', 'NN': '(-', '--': '(-', 'NP': '(-', 'FW': '(-', ',': '(-', 'NR': '(-', '*-': '(-', 'WD': '(-', \"''\": '(-', \"'\": '(-', 'DT': '(-', 'DO': '(-', 'BE': '(-', 'PP': '(-', 'WP': '(-', 'PN': '(-', 'EX': '(-', 'UH': '(-', 'JJ': '(-', 'WQ': '(-', 'CS': '(-', '.': '(-', 'RP': '(-', 'TO': '(-', 'AT': '(-', 'CD': '(-', ',-': '(-', ')': '(-', 'start': '(-', 'QL': '(-', 'OD': '(-', '*': '(-', 'AB': '(-'}, {'(-': '(-', 'IN': 'VB', ':': '(-', 'HV': '(-', 'AP': '(-', '.-': '(-', 'RB': '(-', 'NI': '(-', 'VB': 'VB', 'end': '(-', '(': '(-', '``': '(-', 'RN': '(-', ':-': '(-', 'CC': '(-', 'WR': '(-', ')-': '(-', 'MD': '(-', 'NN': '(-', '--': '(-', 'NP': '(-', 'FW': '(-', ',': '(-', 'NR': '(-', '*-': '(-', 'WD': '(-', \"''\": '(-', \"'\": '(-', 'DT': '(-', 'DO': '(-', 'BE': '(-', 'PP': '(-', 'WP': '(-', 'PN': '(-', 'EX': '(-', 'UH': '(-', 'JJ': 'VB', 'WQ': '(-', 'CS': 'VB', '.': '(-', 'RP': '(-', 'TO': '(-', 'AT': '(-', 'CD': '(-', ',-': '(-', ')': '(-', 'start': '(-', 'QL': '(-', 'OD': '(-', '*': '(-', 'AB': '(-'}]\n",
      "[{'(-': '(-', 'IN': '(-', ':': '(-', 'HV': '(-', 'AP': '(-', '.-': '(-', 'RB': '(-', 'NI': '(-', 'VB': 'CS', 'end': '(-', '(': '(-', '``': '(-', 'RN': '(-', ':-': '(-', 'CC': '(-', 'WR': '(-', ')-': '(-', 'MD': '(-', 'NN': '(-', '--': '(-', 'NP': '(-', 'FW': '(-', ',': '(-', 'NR': '(-', '*-': '(-', 'WD': '(-', \"''\": '(-', \"'\": '(-', 'DT': '(-', 'DO': '(-', 'BE': '(-', 'PP': '(-', 'WP': '(-', 'PN': '(-', 'EX': '(-', 'UH': '(-', 'JJ': '(-', 'WQ': '(-', 'CS': '(-', '.': '(-', 'RP': '(-', 'TO': '(-', 'AT': '(-', 'CD': '(-', ',-': '(-', ')': '(-', 'start': '(-', 'QL': '(-', 'OD': '(-', '*': '(-', 'AB': '(-'}, {'(-': '(-', 'IN': 'PP', ':': '(-', 'HV': '(-', 'AP': '(-', '.-': '(-', 'RB': '(-', 'NI': '(-', 'VB': 'PP', 'end': '(-', '(': '(-', '``': '(-', 'RN': '(-', ':-': '(-', 'CC': '(-', 'WR': '(-', ')-': '(-', 'MD': '(-', 'NN': '(-', '--': '(-', 'NP': '(-', 'FW': '(-', ',': '(-', 'NR': '(-', '*-': '(-', 'WD': '(-', \"''\": '(-', \"'\": '(-', 'DT': '(-', 'DO': '(-', 'BE': '(-', 'PP': '(-', 'WP': '(-', 'PN': '(-', 'EX': '(-', 'UH': '(-', 'JJ': 'PP', 'WQ': '(-', 'CS': 'PP', '.': '(-', 'RP': '(-', 'TO': '(-', 'AT': '(-', 'CD': '(-', ',-': '(-', ')': '(-', 'start': '(-', 'QL': '(-', 'OD': '(-', '*': '(-', 'AB': '(-'}, {'(-': 'start', 'IN': 'start', ':': 'start', 'HV': 'start', 'AP': 'start', '.-': 'start', 'RB': 'start', 'NI': 'start', 'VB': 'start', 'end': 'start', '(': 'start', '``': 'start', 'RN': 'start', ':-': 'start', 'CC': 'start', 'WR': 'start', ')-': 'start', 'MD': 'start', 'NN': 'start', '--': 'start', 'NP': 'start', 'FW': 'start', ',': 'start', 'NR': 'start', '*-': 'start', 'WD': 'start', \"''\": 'start', \"'\": 'start', 'DT': 'start', 'DO': 'start', 'BE': 'start', 'PP': 'start', 'WP': 'start', 'PN': 'start', 'EX': 'start', 'UH': 'start', 'JJ': 'start', 'WQ': 'start', 'CS': 'start', '.': 'start', 'RP': 'start', 'TO': 'start', 'AT': 'start', 'CD': 'start', ',-': 'start', ')': 'start', 'QL': 'start', 'OD': 'start', '*': 'start', 'AB': 'start'}, {'(-': '(-', 'IN': 'VB', ':': '(-', 'HV': '(-', 'AP': '(-', '.-': '(-', 'RB': '(-', 'NI': '(-', 'VB': 'VB', 'end': '(-', '(': '(-', '``': '(-', 'RN': '(-', ':-': '(-', 'CC': '(-', 'WR': '(-', ')-': '(-', 'MD': '(-', 'NN': '(-', '--': '(-', 'NP': '(-', 'FW': '(-', ',': '(-', 'NR': '(-', '*-': '(-', 'WD': '(-', \"''\": '(-', \"'\": '(-', 'DT': '(-', 'DO': '(-', 'BE': '(-', 'PP': '(-', 'WP': '(-', 'PN': '(-', 'EX': '(-', 'UH': '(-', 'JJ': 'VB', 'WQ': '(-', 'CS': 'VB', '.': '(-', 'RP': '(-', 'TO': '(-', 'AT': '(-', 'CD': '(-', ',-': '(-', ')': '(-', 'start': '(-', 'QL': '(-', 'OD': '(-', '*': '(-', 'AB': '(-'}, {'(-': '(-', 'IN': 'CS', ':': '(-', 'HV': '(-', 'AP': '(-', '.-': '(-', 'RB': '(-', 'NI': '(-', 'VB': 'CS', 'end': '(-', '(': '(-', '``': '(-', 'RN': '(-', ':-': '(-', 'CC': '(-', 'WR': '(-', ')-': '(-', 'MD': '(-', 'NN': '(-', '--': '(-', 'NP': '(-', 'FW': '(-', ',': '(-', 'NR': '(-', '*-': '(-', 'WD': '(-', \"''\": '(-', \"'\": '(-', 'DT': '(-', 'DO': '(-', 'BE': '(-', 'PP': '(-', 'WP': '(-', 'PN': '(-', 'EX': '(-', 'UH': '(-', 'JJ': 'CS', 'WQ': '(-', 'CS': 'CS', '.': '(-', 'RP': '(-', 'TO': '(-', 'AT': '(-', 'CD': '(-', ',-': '(-', ')': '(-', 'start': '(-', 'QL': '(-', 'OD': '(-', '*': '(-', 'AB': '(-'}, {'(-': '(-', 'IN': '(-', ':': '(-', 'HV': '(-', 'AP': '(-', '.-': '(-', 'RB': '(-', 'NI': '(-', 'VB': 'CS', 'end': '(-', '(': '(-', '``': '(-', 'RN': '(-', ':-': '(-', 'CC': '(-', 'WR': '(-', ')-': '(-', 'MD': '(-', 'NN': '(-', '--': '(-', 'NP': '(-', 'FW': '(-', ',': '(-', 'NR': '(-', '*-': '(-', 'WD': '(-', \"''\": '(-', \"'\": '(-', 'DT': '(-', 'DO': '(-', 'BE': '(-', 'PP': '(-', 'WP': '(-', 'PN': '(-', 'EX': '(-', 'UH': '(-', 'JJ': '(-', 'WQ': '(-', 'CS': '(-', '.': '(-', 'RP': '(-', 'TO': '(-', 'AT': '(-', 'CD': '(-', ',-': '(-', ')': '(-', 'start': '(-', 'QL': '(-', 'OD': '(-', '*': '(-', 'AB': '(-'}, {'(-': '(-', 'IN': 'VB', ':': '(-', 'HV': '(-', 'AP': '(-', '.-': '(-', 'RB': '(-', 'NI': '(-', 'VB': 'VB', 'end': '(-', '(': '(-', '``': '(-', 'RN': '(-', ':-': '(-', 'CC': '(-', 'WR': '(-', ')-': '(-', 'MD': '(-', 'NN': '(-', '--': '(-', 'NP': '(-', 'FW': '(-', ',': '(-', 'NR': '(-', '*-': '(-', 'WD': '(-', \"''\": '(-', \"'\": '(-', 'DT': '(-', 'DO': '(-', 'BE': '(-', 'PP': '(-', 'WP': '(-', 'PN': '(-', 'EX': '(-', 'UH': '(-', 'JJ': 'VB', 'WQ': '(-', 'CS': 'VB', '.': '(-', 'RP': '(-', 'TO': '(-', 'AT': '(-', 'CD': '(-', ',-': '(-', ')': '(-', 'start': '(-', 'QL': '(-', 'OD': '(-', '*': '(-', 'AB': '(-'}, {'(-': '(-', 'IN': '(-', ':': '(-', 'HV': '(-', 'AP': '(-', '.-': '(-', 'RB': '(-', 'NI': '(-', 'VB': 'CS', 'end': '(-', '(': '(-', '``': '(-', 'RN': '(-', ':-': '(-', 'CC': '(-', 'WR': '(-', ')-': '(-', 'MD': '(-', 'NN': '(-', '--': '(-', 'NP': '(-', 'FW': '(-', ',': '(-', 'NR': '(-', '*-': '(-', 'WD': '(-', \"''\": '(-', \"'\": '(-', 'DT': '(-', 'DO': '(-', 'BE': '(-', 'PP': '(-', 'WP': '(-', 'PN': '(-', 'EX': '(-', 'UH': '(-', 'JJ': '(-', 'WQ': '(-', 'CS': '(-', '.': '(-', 'RP': '(-', 'TO': '(-', 'AT': '(-', 'CD': '(-', ',-': '(-', ')': '(-', 'start': '(-', 'QL': '(-', 'OD': '(-', '*': '(-', 'AB': '(-'}, {'(-': '(-', 'IN': 'VB', ':': '(-', 'HV': '(-', 'AP': '(-', '.-': '(-', 'RB': '(-', 'NI': '(-', 'VB': 'VB', 'end': '(-', '(': '(-', '``': '(-', 'RN': '(-', ':-': '(-', 'CC': '(-', 'WR': '(-', ')-': '(-', 'MD': '(-', 'NN': '(-', '--': '(-', 'NP': '(-', 'FW': '(-', ',': '(-', 'NR': '(-', '*-': '(-', 'WD': '(-', \"''\": '(-', \"'\": '(-', 'DT': '(-', 'DO': '(-', 'BE': '(-', 'PP': '(-', 'WP': '(-', 'PN': '(-', 'EX': '(-', 'UH': '(-', 'JJ': 'VB', 'WQ': '(-', 'CS': 'VB', '.': '(-', 'RP': '(-', 'TO': '(-', 'AT': '(-', 'CD': '(-', ',-': '(-', ')': '(-', 'start': '(-', 'QL': '(-', 'OD': '(-', '*': '(-', 'AB': '(-'}, {'(-': '(-', 'IN': '(-', ':': '(-', 'HV': '(-', 'AP': '(-', '.-': '(-', 'RB': '(-', 'NI': '(-', 'VB': 'CS', 'end': '(-', '(': '(-', '``': '(-', 'RN': '(-', ':-': '(-', 'CC': '(-', 'WR': '(-', ')-': '(-', 'MD': '(-', 'NN': '(-', '--': '(-', 'NP': '(-', 'FW': '(-', ',': '(-', 'NR': '(-', '*-': '(-', 'WD': '(-', \"''\": '(-', \"'\": '(-', 'DT': '(-', 'DO': '(-', 'BE': '(-', 'PP': '(-', 'WP': '(-', 'PN': '(-', 'EX': '(-', 'UH': '(-', 'JJ': '(-', 'WQ': '(-', 'CS': '(-', '.': '(-', 'RP': '(-', 'TO': '(-', 'AT': '(-', 'CD': '(-', ',-': '(-', ')': '(-', 'start': '(-', 'QL': '(-', 'OD': '(-', '*': '(-', 'AB': '(-'}]\n"
     ]
    }
   ],
   "source": [
    "for wordindex in range(1,len(sentence)):\n",
    "    this_viterbi={ }\n",
    "    this_backpointer={ }\n",
    "    prev_viterbi=viterbi[-1]\n",
    "    \n",
    "    for tag in distinct_tags:\n",
    "        if tag=='True':continue\n",
    "        #如果这个词的tag是X，现在的单词是w\n",
    "        #我们想找前一个tag,并且让最好的tag sequence以Y,X结尾\n",
    "        #也就是说，Y也要能最大化\n",
    "        #prev_viterbi[Y]*P(X|Y)*P(w/X)\n",
    "        best_previous=max(prev_viterbi.keys(),key=lambda prevtag:prev_viterbi[prevtag]*cpd_tags[prevtag].prob(tag)*cpd_tagwords[tag].prob(sentence[wordindex]))\n",
    "        this_viterbi[tag]=prev_viterbi[best_previous]*cpd_tags[best_previous].prob(tag)*cpd_tagwords[tag].prob(sentence[wordindex])\n",
    "        this_backpointer[tag]=best_previous\n",
    "    currbest=max(this_viterbi.keys(),key=lambda tag:this_viterbi[tag])\n",
    "    print('word','‘'+sentence[wordindex]+'‘','current best two_bag sequence',\n",
    "         this_backpointer[currbest],currbest)\n",
    "    viterbi.append(this_viterbi)\n",
    "    backpointer.append(this_backpointer)\n",
    "#     print(viterbi)\n",
    "#     print(backpointer)\n",
    "                                                                                                            \n",
    "                                                                                                               \n",
    "                                                                                                               "
   ]
  },
  {
   "cell_type": "code",
   "execution_count": 38,
   "metadata": {},
   "outputs": [],
   "source": [
    "#找所有以end结尾的tag sequence\n",
    "prev_viterbi=viterbi[-1]\n",
    "best_previous=max(prev_viterbi.keys(),key=lambda prevtag:\n",
    "                 prev_viterbi[prevtag]*cpd_tags[prevtag].prob('end'))\n",
    "prob_tagsequence=prev_viterbi[best_previous]*cpd_tags[best_previous].prob('end')\n",
    "#倒着存，因此好的在后面\n",
    "best_tagsequence=['end',best_previous]\n",
    "#同理，这里也到过了\n",
    "# backpointer.reverse()"
   ]
  },
  {
   "cell_type": "code",
   "execution_count": 35,
   "metadata": {},
   "outputs": [],
   "source": [
    "#回溯所有的回点\n",
    "current_best_tag=best_previous\n",
    "for bp in backpointer:\n",
    "    best_tagsequence.append(bp[current_best_tag])\n",
    "    current_bset_tag=bp[current_best_tag]"
   ]
  },
  {
   "cell_type": "code",
   "execution_count": 36,
   "metadata": {},
   "outputs": [
    {
     "name": "stdout",
     "output_type": "stream",
     "text": [
      "the sentence was: I like studying \n",
      "\n",
      "best tag sequence is: start PP CS VB end \n",
      "\n",
      "the probability of the best tag sequence is: 6.223678544486739e-14\n"
     ]
    }
   ],
   "source": [
    "best_tagsequence.reverse()\n",
    "print('the sentence was:',end=' ')\n",
    "for w in sentence:\n",
    "    print(w,end=' ')\n",
    "print('\\n')\n",
    "print('best tag sequence is:',end=' ')\n",
    "for t in best_tagsequence:\n",
    "    print(t,end=' ')\n",
    "print('\\n')\n",
    "print('the probability of the best tag sequence is:',prob_tagsequence)"
   ]
  },
  {
   "cell_type": "code",
   "execution_count": null,
   "metadata": {},
   "outputs": [],
   "source": []
  }
 ],
 "metadata": {
  "kernelspec": {
   "display_name": "Python 3",
   "language": "python",
   "name": "python3"
  },
  "language_info": {
   "codemirror_mode": {
    "name": "ipython",
    "version": 3
   },
   "file_extension": ".py",
   "mimetype": "text/x-python",
   "name": "python",
   "nbconvert_exporter": "python",
   "pygments_lexer": "ipython3",
   "version": "3.7.1"
  }
 },
 "nbformat": 4,
 "nbformat_minor": 2
}
