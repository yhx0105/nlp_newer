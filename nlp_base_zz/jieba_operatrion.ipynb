{
 "cells": [
  {
   "cell_type": "code",
   "execution_count": 2,
   "metadata": {},
   "outputs": [],
   "source": [
    "import jieba"
   ]
  },
  {
   "cell_type": "code",
   "execution_count": 3,
   "metadata": {},
   "outputs": [
    {
     "name": "stderr",
     "output_type": "stream",
     "text": [
      "Building prefix dict from the default dictionary ...\n"
     ]
    },
    {
     "name": "stdout",
     "output_type": "stream",
     "text": [
      "<generator object Tokenizer.cut at 0x000000AFFF5E2C78>\n"
     ]
    },
    {
     "name": "stderr",
     "output_type": "stream",
     "text": [
      "Dumping model to file cache C:\\Users\\yang\\AppData\\Local\\Temp\\jieba.cache\n",
      "Loading model cost 1.055 seconds.\n",
      "Prefix dict has been built succesfully.\n"
     ]
    },
    {
     "name": "stdout",
     "output_type": "stream",
     "text": [
      "full mode:学习/真的/是/世界/上/最/有意/有意思/意思/的/事情\n"
     ]
    }
   ],
   "source": [
    "seg_list=jieba.cut('学习真的是世界上最有意思的事情',cut_all=True)\n",
    "print (seg_list)\n",
    "print('full mode:'+'/'.join(seg_list))#什么是全模式？尽量把所有的意思都弄出来"
   ]
  },
  {
   "cell_type": "code",
   "execution_count": 7,
   "metadata": {},
   "outputs": [
    {
     "name": "stdout",
     "output_type": "stream",
     "text": [
      "default mode学习/真的/是/世界/上/最/有意思/的/事情\n"
     ]
    }
   ],
   "source": [
    "seg_list=jieba.cut('学习真的是世界上最有意思的事情',cut_all=False)\n",
    "print('default mode'+'/'.join(seg_list))#什么是精确模式？默认使用概率最大的分组\n"
   ]
  },
  {
   "cell_type": "code",
   "execution_count": 10,
   "metadata": {},
   "outputs": [
    {
     "name": "stdout",
     "output_type": "stream",
     "text": [
      "我/以后/会/去/哪里/工作/呢/？/希望/研究生/可以/好好/努力/吧/！\n"
     ]
    }
   ],
   "source": [
    "seg_list=jieba.cut('我以后会去哪里工作呢？希望研究生可以好好努力吧！')\n",
    "print('/'.join(seg_list))"
   ]
  },
  {
   "cell_type": "code",
   "execution_count": 11,
   "metadata": {},
   "outputs": [
    {
     "name": "stdout",
     "output_type": "stream",
     "text": [
      "我/以后/会/去/哪里/工作/呢/？/希望/研究/研究生/可以/好好/努力/吧/！\n"
     ]
    }
   ],
   "source": [
    "seg_list=jieba.cut_for_search('我以后会去哪里工作呢？希望研究生可以好好努力吧！')\n",
    "print('/'.join(seg_list))"
   ]
  },
  {
   "cell_type": "markdown",
   "metadata": {},
   "source": [
    "添加用户字典\n",
    "可以用jieba.load_userdic(flie_name)加载用户字典\n",
    "少量的词汇可以自己手动添加\n",
    "a.用add_woed(word,freq=None,tag=None)和del_word(word)\n",
    "b.用suggest_freq(segment,tune=True)调节单个词语的词频\n"
   ]
  },
  {
   "cell_type": "code",
   "execution_count": 14,
   "metadata": {},
   "outputs": [
    {
     "name": "stdout",
     "output_type": "stream",
     "text": [
      "这个/意思/到底/是/什么/意思\n"
     ]
    }
   ],
   "source": [
    "print('/'.join(jieba.cut('这个意思到底是什么意思',HMM=False)))\n"
   ]
  },
  {
   "cell_type": "code",
   "execution_count": 15,
   "metadata": {},
   "outputs": [
    {
     "data": {
      "text/plain": [
       "0"
      ]
     },
     "execution_count": 15,
     "metadata": {},
     "output_type": "execute_result"
    }
   ],
   "source": [
    "jieba.suggest_freq(('意','思'),True)"
   ]
  },
  {
   "cell_type": "markdown",
   "metadata": {},
   "source": [
    "基于TF-IDF算法的关键词抽取\n",
    "import jieba.analyse\n",
    "jieba.analyse.extract_tags(sentence,topK,withWeight=Flase,allowPOS=())\n",
    "sentence为代提取文本\n",
    "topK为返回几个权重的最大值\n",
    "withWeight为是否返回关键词的权重\n",
    "allowPOS仅包括制定词性的词"
   ]
  },
  {
   "cell_type": "code",
   "execution_count": 27,
   "metadata": {},
   "outputs": [
    {
     "data": {
      "text/plain": [
       "'北京时间2月20日，2017年NBA全明星正赛开始之前的训练中出现了有趣的一幕，起初，威少脱离其他西部全明星球员而独自练习投篮。但是在全队跑篮的过程中，威少加入了西部全明星队，并且还和凯文-杜兰特出现了一些互动。\\n\\u3000\\u3000从推特上媒体拍的照片来看，西部全明星球员的赛前投篮热身中，威少一个人在一个半场投篮，而其他西部全明星球员则在另一个半场投篮。看来对于杜兰特，威少开始是拒绝的。\\n\\u3000\\u3000在外界看来，威少是在刻意避开杜兰特。也许是看威少一个人投篮太孤独，詹姆斯-哈登随后加入了威少。\\n\\u3000\\u3000然而在之后的全队跑篮中，威少加入了西部全明星队，而且还和杜兰特出现了大家期待的互动，他们互相传球了！\\n\\u3000\\u3000据了解，杜兰特还为威少送出上篮助攻。而勇士记者安东尼-斯莱特在推特上表示：“虽然威少和杜兰特并没有变得友好，但是他们也没有忽视对方：KD和威少互相为对方传球和抢篮板。”\\n\\n“天呐，天呐，看见了没？杜兰特的更衣柜刚好在韦斯布鲁克更衣柜的对面。”梅拉斯这样写道。随后他还发布了一段小视频，可以清楚的看出，韦斯布鲁克与杜兰特之间，相隔了7名球员。\\n在韦斯布鲁克身旁的，是身披15号的考辛斯，而杜兰特则位于对角位置。他的左侧位置是汤普森、库里以及格林。勇士四人组的更衣柜位置，是挨在一块儿的。\\n尽管昔日同在雷霆效力，但杜韦二少如今关系非常恶劣。勇士客场击败雷霆赛后，两人先后进入一家牛排馆吃饭，相隔五米，全程毫无交流。到了全明星周末期间，韦斯布鲁克与杜兰特也曾迎面碰到过。不过两人都装作没有看见，宛若对方是空气一般。\\n破裂的感情如何去修复？或许只能依靠时间。有趣的是，在昨天的三分球大赛上，现场的主持人在介绍到场嘉宾时出现口误，将端坐在场边的杜兰特称为“来自俄克拉荷马”，为此杜兰特显得一脸不爽。\\n\\n本届全明星正赛，最大的看点就是杜韦二少的重逢会擦出怎样的火花，而这一切都掌握在勇士主帅史蒂夫-科尔的手里。同时，韦少能否完成全明星MVP的三连庄成为了这次正赛的另一个噱头。张卫平指导对本次正赛也有他自己的看法，让我们看看他是怎么说的。\\n张卫平预测全明星正赛：3因素助韦少MVP三连庄 \\n张卫平指导预测全明星正赛结果\\n对于全明星赛MVP的归属，张指导认为韦少当选的机会很大。韦少已经连续两年成为全明星MVP的归属。（2015年全明星赛韦少轰下41分夺得全明星赛MVP。2016年全明星赛他又砍下31分蝉联了全明星赛MVP。韦少成为了继佩蒂特之后NBA历史上第二位蝉联全明星赛MVP的球员。）如果韦少今年再夺全明星赛MVP，那么他将成为NBA史上第一位完成全明星赛MVP三连庄的球员，因此他将为这个目标全力冲击。\\n为什么这么说呢？首先，前凯尔特人队，现快船队主教练道格-里弗斯向科尔提建议，要让自己的死敌在全明星赛上疯狂地发挥，免得将来和他见面的时候他和你玩命。现在勇士在西部的死敌就是韦少带领的雷霆。究其原因，还是因为杜兰特和韦少之间冗长的肥皂剧。因此，科尔一定会让韦少在全明星赛上打个痛快。\\n其次，张指导认为，勇士四巨头不会因为科尔在全明星赛上控制他们的出场时间而埋怨自己的主教练，但你的对手会因为你对他的怠慢而记下仇来。因此，科尔不出意外应该会听从里弗斯的建议，让韦少玩命打。\\n第三点，从韦少自己的性格来看，虽然全明星赛是个娱乐性质的比赛，没有人特别认真地去打，但是韦少不会在意这些的，他的特点是上场就干，这就是他的性格。两次全明星MVP就是最好的佐证，大伙也心照不宣。而且韦少目前虽然保持着场均三双，但却不是全明星先发，这让他在心里一直憋着一口气证明自己。\\n如此看来，如果科尔选择让韦少战个痛快，再加上韦少自己的性格，他的第三座全明星MVP应该是稳稳地收下了。但是张指导说了，不能说韦少一定能拿MVP，这只是个预测，具体的结果还是要看临场的发挥。（栗旬）\\n\\n\\n'"
      ]
     },
     "execution_count": 27,
     "metadata": {},
     "output_type": "execute_result"
    }
   ],
   "source": [
    "import jieba.analyse as analyse\n",
    "lines=open('NBA.txt',encoding='utf8').read()\n",
    "lines"
   ]
  },
  {
   "cell_type": "code",
   "execution_count": 41,
   "metadata": {},
   "outputs": [
    {
     "name": "stdout",
     "output_type": "stream",
     "text": [
      "行者八戒师父三藏唐僧大圣沙僧妖精菩萨和尚那怪那里长老呆子徒弟怎么不知老孙国王一个闻言小妖大王我们只见不曾两个真个悟空孙行者\n"
     ]
    }
   ],
   "source": [
    "import jieba.analyse as analyse\n",
    "lines=str(lines)\n",
    "print(''.join(analyse.extract_tags(lines,topK=30,withWeight=False,allowPOS=())))"
   ]
  },
  {
   "cell_type": "code",
   "execution_count": 43,
   "metadata": {},
   "outputs": [
    {
     "name": "stdout",
     "output_type": "stream",
     "text": [
      "行者 八戒 师父 妖精 菩萨 长老 呆子 徒弟 国王 小妖 悟空 妖怪 老者 师徒 铁棒 不题 妖魔 兄弟 妖王 行李\n"
     ]
    }
   ],
   "source": [
    "lines=open('西游记.txt',encoding='utf8').read()\n",
    "lines=str(lines)\n",
    "\n",
    "print(' '.join(analyse.extract_tags(lines,topK=20,\n",
    "                                    withWeight=False,\n",
    "                                    allowPOS=('n'))))"
   ]
  },
  {
   "cell_type": "code",
   "execution_count": 45,
   "metadata": {},
   "outputs": [
    {
     "name": "stdout",
     "output_type": "stream",
     "text": [
      "没有 出现 威少 应该 带领 相隔 认为 吃饭 归属 只能\n",
      "-------------------------------\n"
     ]
    }
   ],
   "source": [
    "lines=open('NBA.txt',encoding='utf8').read()\n",
    "print(' '.join(analyse.textrank(lines,topK=10,withWeight=False,allowPOS=('v'))))\n",
    "print('-------------------------------')\n"
   ]
  },
  {
   "cell_type": "code",
   "execution_count": 52,
   "metadata": {},
   "outputs": [
    {
     "name": "stdout",
     "output_type": "stream",
     "text": [
      "不知\n"
     ]
    }
   ],
   "source": [
    "lines=open('西游记.txt',encoding='utf8').read()\n",
    "print(''.join(analyse.textrank(lines,topK=1,withWeight=False,allowPOS=('v'))))"
   ]
  },
  {
   "cell_type": "code",
   "execution_count": 53,
   "metadata": {},
   "outputs": [
    {
     "name": "stdout",
     "output_type": "stream",
     "text": [
      " 我,r\n",
      " 爱,v\n",
      " 学习,v\n",
      " ,,x\n",
      " 学习,v\n",
      " 使,v\n",
      " 我,r\n",
      " 快乐,a\n"
     ]
    }
   ],
   "source": [
    "import jieba.posseg as pseg\n",
    "words=pseg.cut('我爱学习,学习使我快乐')\n",
    "for word,flag in words:\n",
    "    print(' {},{}'.format(word,flag))"
   ]
  },
  {
   "cell_type": "code",
   "execution_count": 64,
   "metadata": {},
   "outputs": [
    {
     "name": "stdout",
     "output_type": "stream",
     "text": [
      "分词速度：0.0\n"
     ]
    }
   ],
   "source": [
    "import sys\n",
    "import time\n",
    "import jieba\n",
    "\n",
    "# jieba.enable_parallel()\n",
    "content=open('西游记.txt',encoding='utf8').read()\n",
    "t1=time.time()\n",
    "seg=jieba.cut(content)\n",
    "t2=time.time()\n",
    "tm_cost=t2-t1\n",
    "# print(' '.join(seg))\n",
    "print('分词速度：{}'.format(tm_cost))\n",
    "\n"
   ]
  },
  {
   "cell_type": "markdown",
   "metadata": {},
   "source": [
    "Tokenize:返回词语在原文的起止位置"
   ]
  },
  {
   "cell_type": "code",
   "execution_count": 65,
   "metadata": {},
   "outputs": [
    {
     "name": "stdout",
     "output_type": "stream",
     "text": [
      "默认模式的tokenize\n",
      "花非花\t start:0 end:3\n",
      "，\t start:3 end:4\n",
      "雾非雾\t start:4 end:7\n",
      "，\t start:7 end:8\n",
      "老鼠\t start:8 end:10\n",
      "的\t start:10 end:11\n",
      "儿子\t start:11 end:13\n",
      "打\t start:13 end:14\n",
      "老虎\t start:14 end:16\n"
     ]
    }
   ],
   "source": [
    "print('默认模式的tokenize')\n",
    "result=jieba.tokenize('花非花，雾非雾，老鼠的儿子打老虎')\n",
    "for tk in result:\n",
    "    print('{}\\t start:{} end:{}'.format(tk[0],tk[1],tk[2]))\n"
   ]
  },
  {
   "cell_type": "code",
   "execution_count": null,
   "metadata": {},
   "outputs": [],
   "source": []
  }
 ],
 "metadata": {
  "kernelspec": {
   "display_name": "Python 3",
   "language": "python",
   "name": "python3"
  },
  "language_info": {
   "codemirror_mode": {
    "name": "ipython",
    "version": 3
   },
   "file_extension": ".py",
   "mimetype": "text/x-python",
   "name": "python",
   "nbconvert_exporter": "python",
   "pygments_lexer": "ipython3",
   "version": "3.7.1"
  }
 },
 "nbformat": 4,
 "nbformat_minor": 2
}
